{
 "cells": [
  {
   "cell_type": "code",
   "execution_count": 1,
   "metadata": {},
   "outputs": [],
   "source": [
    "import pdfplumber\n",
    "import pandas as pd"
   ]
  },
  {
   "cell_type": "code",
   "execution_count": 2,
   "metadata": {},
   "outputs": [],
   "source": [
    "# Function to extract text and tables from the PDF\n",
    "def extract_text_and_tables(pdf_path):\n",
    "    all_text = \"\"\n",
    "    tables = []\n",
    "\n",
    "    with pdfplumber.open(pdf_path) as pdf:\n",
    "        for page_number, page in enumerate(pdf.pages, start=1):\n",
    "             # Extract text from each page\n",
    "            all_text += f\"--- Page {page_number} ---\\n\"\n",
    "            all_text += page.extract_text() + \"\\n\"\n",
    "\n",
    "            # Extract tables\n",
    "            page_tables = page.extract_tables()\n",
    "            for table in page_tables:\n",
    "                # Convert table to DataFrame\n",
    "                df = pd.DataFrame(table[1:], columns=table[0])  # The first row as the header\n",
    "                tables.append((page_number, df))\n",
    "    \n",
    "    return all_text, tables"
   ]
  },
  {
   "cell_type": "code",
   "execution_count": 3,
   "metadata": {},
   "outputs": [],
   "source": [
    "# Path to the PDF file\n",
    "pdf_path = 'data/PECEELPF447001A1.PDF'  "
   ]
  },
  {
   "cell_type": "code",
   "execution_count": 4,
   "metadata": {},
   "outputs": [],
   "source": [
    "# Extract text and tables\n",
    "text, tables = extract_text_and_tables(pdf_path)"
   ]
  },
  {
   "cell_type": "code",
   "execution_count": 5,
   "metadata": {},
   "outputs": [
    {
     "name": "stdout",
     "output_type": "stream",
     "text": [
      "Extraction completed. Files saved.\n"
     ]
    }
   ],
   "source": [
    "# Save text to a file\n",
    "with open('data/extracted_text.txt', 'w', encoding='utf-8') as text_file:\n",
    "    text_file.write(text)\n",
    "\n",
    "# Save tables in separate files OPTION\n",
    "#for idx, (page, table) in enumerate(tables):\n",
    "    #table.to_csv(f'table_page_{page}_table_{idx + 1}.csv', index=False)\n",
    "\n",
    "print(\"Extraction completed. Files saved.\")"
   ]
  }
 ],
 "metadata": {
  "kernelspec": {
   "display_name": "Python 3",
   "language": "python",
   "name": "python3"
  },
  "language_info": {
   "codemirror_mode": {
    "name": "ipython",
    "version": 3
   },
   "file_extension": ".py",
   "mimetype": "text/x-python",
   "name": "python",
   "nbconvert_exporter": "python",
   "pygments_lexer": "ipython3",
   "version": "3.12.7"
  }
 },
 "nbformat": 4,
 "nbformat_minor": 2
}
