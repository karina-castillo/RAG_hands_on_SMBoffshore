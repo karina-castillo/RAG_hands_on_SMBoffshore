{
 "cells": [
  {
   "cell_type": "code",
   "execution_count": 1,
   "metadata": {},
   "outputs": [],
   "source": [
    "import os"
   ]
  },
  {
   "cell_type": "code",
   "execution_count": 2,
   "metadata": {},
   "outputs": [
    {
     "name": "stdout",
     "output_type": "stream",
     "text": [
      "Total pages processed and saved in 'chunks': 14\n"
     ]
    }
   ],
   "source": [
    "# Script to split text by pages\n",
    "def split_text_by_pages(file_name, output_directory, marker=\"--- Page\"):\n",
    "    \"\"\"\n",
    "    Splits a text file into chunks based on the page marker and saves them in a specified directory.\n",
    "    \n",
    "    :param file_name: Name of the text file to process.\n",
    "    :param output_directory: Directory where the chunks will be saved.\n",
    "    :param marker: Marker to separate pages.\n",
    "    :return: List of text chunks by page.\n",
    "    \"\"\"\n",
    "    # Create the output directory if it doesn't exist\n",
    "    os.makedirs(output_directory, exist_ok=True)\n",
    "    \n",
    "    with open(file_name, 'r', encoding='utf-8') as file:\n",
    "        text = file.read()\n",
    "    \n",
    "    # Split text using the marker\n",
    "    pages = text.split(marker)\n",
    "    pages = [marker + page.strip() for page in pages if page.strip()]  # Keep the marker\n",
    "    \n",
    "    # Save each page to the output directory\n",
    "    for i, page in enumerate(pages, start=1):\n",
    "        output_path = os.path.join(output_directory, f'page_{i}.txt')\n",
    "        with open(output_path, 'w', encoding='utf-8') as output:\n",
    "            output.write(page)\n",
    "    \n",
    "    return pages\n",
    "\n",
    "# Use the function\n",
    "file_name = 'data/extracted_text.txt'\n",
    "output_directory = 'chunks'  # Directory to save the chunks\n",
    "pages = split_text_by_pages(file_name, output_directory)\n",
    "\n",
    "# Print the total number of pages processed\n",
    "print(f\"Total pages processed and saved in '{output_directory}': {len(pages)}\")\n"
   ]
  }
 ],
 "metadata": {
  "kernelspec": {
   "display_name": "Python 3",
   "language": "python",
   "name": "python3"
  },
  "language_info": {
   "codemirror_mode": {
    "name": "ipython",
    "version": 3
   },
   "file_extension": ".py",
   "mimetype": "text/x-python",
   "name": "python",
   "nbconvert_exporter": "python",
   "pygments_lexer": "ipython3",
   "version": "3.12.7"
  }
 },
 "nbformat": 4,
 "nbformat_minor": 2
}
