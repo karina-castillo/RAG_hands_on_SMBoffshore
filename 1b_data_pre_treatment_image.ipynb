{
 "cells": [
  {
   "cell_type": "code",
   "execution_count": 1,
   "metadata": {},
   "outputs": [],
   "source": [
    "import pdfplumber\n",
    "import pandas as pd\n",
    "import requests\n",
    "import yaml\n",
    "import os\n",
    "import base64"
   ]
  },
  {
   "cell_type": "code",
   "execution_count": 2,
   "metadata": {},
   "outputs": [],
   "source": [
    "# Import config file\n",
    "with open(\"config.yml\", \"r\") as config_file:\n",
    "    config = yaml.safe_load(config_file)"
   ]
  },
  {
   "cell_type": "code",
   "execution_count": 3,
   "metadata": {},
   "outputs": [],
   "source": [
    "# Azure OpenAI configuration\n",
    "AZURE_OPENAI_ENDPOINT = config['azure_openai_endpoint']\n",
    "AZURE_OPENAI_API_KEY = config['azure_openai_key']\n",
    "AZURE_MODEL_NAME = config['azure_openai_model_deployment']\n",
    "AZURE_OPENAI_API_VERSION = config['azure_openai_api_version']"
   ]
  },
  {
   "cell_type": "code",
   "execution_count": 4,
   "metadata": {},
   "outputs": [],
   "source": [
    "def describe_image_with_gpt4(image_path):\n",
    "    \"\"\"\n",
    "    Describe an image using Azure OpenAI.\n",
    "    \"\"\"\n",
    "    # Load the image as binary data\n",
    "    #with open(image_path, \"rb\") as image_file:\n",
    "    #    image_data = image_file.read()\n",
    "    encoded_image = base64.b64encode(open(image_path, 'rb').read()).decode('ascii')\n",
    "\n",
    "    # Create the prompt for the GPT model\n",
    "    prompt = f\"You are a useful agent in charge of analyzing technical drawigns:\\n\\n\"\n",
    "    command = f\"Please describe the following image as part of a technical document:\\n\\n\"\n",
    "\n",
    "    # Call the Azure OpenAI endpoint\n",
    "    headers = {\n",
    "        \"Content-Type\": \"application/json\",\n",
    "        \"api-key\": AZURE_OPENAI_API_KEY\n",
    "    }\n",
    "    payload = {\n",
    "        \"messages\": [{\"role\": \"system\", \"content\": prompt},\n",
    "                     {\"role\": \"user\", \"content\": [{\"type\" : \"image_url\",\n",
    "                                                   \"image_url\": {\n",
    "                                                       \"url\": f\"data:image/jpg;base64,{encoded_image}\"\n",
    "                                                   } },\n",
    "                                                  {\"type\" : \"text\",\n",
    "                                                   \"text\" : command}]}],\n",
    "        \"temperature\": 0.5,\n",
    "        \"top_p\": 1.0,\n",
    "        \"max_tokens\": 500,\n",
    "        \"stream\": False,\n",
    "        \"model\": AZURE_MODEL_NAME,\n",
    "    }\n",
    "\n",
    "    # Send the request to the GPT model\n",
    "    response = requests.post(\n",
    "        f\"{AZURE_OPENAI_ENDPOINT}/openai/deployments/{AZURE_MODEL_NAME}/chat/completions?api-version={AZURE_OPENAI_API_VERSION}\",\n",
    "        headers=headers,\n",
    "        json=payload\n",
    "        \n",
    "    )\n",
    "    if response.status_code == 200:\n",
    "        return response.json()[\"choices\"][0][\"message\"][\"content\"]\n",
    "    else:\n",
    "        raise Exception(f\"Error calling GPT-4 model: {response.text}\")"
   ]
  },
  {
   "cell_type": "code",
   "execution_count": 5,
   "metadata": {},
   "outputs": [],
   "source": [
    "# Function to extract text, tables, and images from the PDF\n",
    "def extract_text_tables_and_image(pdf_path):\n",
    "    all_text = \"\"\n",
    "    tables = []\n",
    "    os.makedirs(\"data/images/\", exist_ok=True)\n",
    "\n",
    "    with pdfplumber.open(pdf_path) as pdf:\n",
    "        for page_number, page in enumerate(pdf.pages, start=1):\n",
    "            # Extract text from each page\n",
    "            all_text += f\"--- Page {page_number} ---\\n\"\n",
    "            all_text += page.extract_text() + \"\\n\"\n",
    "\n",
    "            # Extract tables\n",
    "            page_tables = page.extract_tables()\n",
    "            for table in page_tables:\n",
    "                df = pd.DataFrame(table[1:], columns=table[0])  # First row as headers\n",
    "                tables.append((page_number, df))\n",
    "\n",
    "            # Extract image from page 9\n",
    "            if page_number == 9:\n",
    "                for image_index, image in enumerate(page.images):\n",
    "                    try:\n",
    "                        # Extract the image's bounding box\n",
    "                        bbox = (image['x0'], image['top'], image['x1'], image['bottom'])\n",
    "\n",
    "                        # Crop the image using the bounding box\n",
    "                        cropped_image = page.within_bbox(bbox).to_image()\n",
    "\n",
    "                        # Save the image to a file\n",
    "                        image_output_path = f\"data/images/extracted_image_page_9_{image_index + 1}.jpg\"\n",
    "                        cropped_image.save(image_output_path)\n",
    "                        image_path = image_output_path  # Update the final image path to the last one\n",
    "                    except KeyError as e:\n",
    "                        print(f\"Missing expected key in image metadata: {e}\")\n",
    "                    except Exception as e:\n",
    "                        print(f\"An error occurred while processing image: {e}\")\n",
    "\n",
    "    return all_text, tables, image_path"
   ]
  },
  {
   "cell_type": "code",
   "execution_count": 6,
   "metadata": {},
   "outputs": [],
   "source": [
    "# Path to the input PDF\n",
    "pdf_path = \"data/PECEELPF447001A1.PDF\""
   ]
  },
  {
   "cell_type": "code",
   "execution_count": 7,
   "metadata": {},
   "outputs": [],
   "source": [
    "# Extract text, tables, and the image\n",
    "text, tables, image_path = extract_text_tables_and_image(pdf_path)"
   ]
  },
  {
   "cell_type": "code",
   "execution_count": 8,
   "metadata": {},
   "outputs": [
    {
     "data": {
      "text/plain": [
       "'data/images/extracted_image_page_9_2.jpg'"
      ]
     },
     "execution_count": 8,
     "metadata": {},
     "output_type": "execute_result"
    }
   ],
   "source": [
    "image_path"
   ]
  },
  {
   "cell_type": "code",
   "execution_count": 9,
   "metadata": {},
   "outputs": [],
   "source": [
    "# Generate description for the image using GPT-4\n",
    "image_description = describe_image_with_gpt4(image_path)"
   ]
  },
  {
   "cell_type": "code",
   "execution_count": 10,
   "metadata": {},
   "outputs": [],
   "source": [
    "# Insert the image description into the text\n",
    "updated_text = text.replace(\"4.4.2.1 Cable Trays Filling Report\", \n",
    "                            f\"4.4.2.1 Cable Trays Filling Report\\n\\n{image_description}\\n\\n\")"
   ]
  },
  {
   "cell_type": "code",
   "execution_count": 11,
   "metadata": {},
   "outputs": [
    {
     "name": "stdout",
     "output_type": "stream",
     "text": [
      "Text updated with image description and files saved.\n"
     ]
    }
   ],
   "source": [
    "# Save the updated text to a file\n",
    "with open('data/text_with_image_description.txt', 'w', encoding='utf-8') as text_file:\n",
    "    text_file.write(updated_text)\n",
    "\n",
    "# Save tables to separate CSV files\n",
    "#for idx, (page, table) in enumerate(tables):\n",
    "#    table.to_csv(f'table_page_{page}_table_{idx + 1}.csv', index=False)\n",
    "\n",
    "print(\"Text updated with image description and files saved.\")"
   ]
  },
  {
   "cell_type": "code",
   "execution_count": 12,
   "metadata": {},
   "outputs": [
    {
     "data": {
      "text/plain": [
       "'The image presents two technical drawings, labeled \"BATA\" and \"CODE,\" which illustrate a schematic layout of a system involving multiple levels and connections.\\n\\n### Top Section: BATA\\n- **Connections**: Indicated with labeled lines, showing how different elements are interconnected.\\n- **Levels**: Four distinct levels are marked (Level 1 to Level 4), suggesting a multi-tiered structure.\\n- **MIBD and TEAL**: These terms appear to denote specific components or sections of the layout, although their exact meanings are not defined in the image.\\n\\n### Bottom Section: CODE\\n- **Hexagonal Shape**: The lower section features a hexagonal outline, which may represent a specific area of interest or a component within the overall system.\\n- **Levels**: Similar to the top section, multiple levels are indicated (Level 1 to Level 3), providing a clear hierarchy or structure.\\n- **Connections**: Lines connecting various components are also present, emphasizing the interrelations within the system.\\n\\nOverall, the drawings appear to be part of a larger technical document, likely related to engineering or architectural design, showcasing how different levels and connections are organized within the specified system.'"
      ]
     },
     "execution_count": 12,
     "metadata": {},
     "output_type": "execute_result"
    }
   ],
   "source": [
    "image_description"
   ]
  }
 ],
 "metadata": {
  "kernelspec": {
   "display_name": "Python 3",
   "language": "python",
   "name": "python3"
  },
  "language_info": {
   "codemirror_mode": {
    "name": "ipython",
    "version": 3
   },
   "file_extension": ".py",
   "mimetype": "text/x-python",
   "name": "python",
   "nbconvert_exporter": "python",
   "pygments_lexer": "ipython3",
   "version": "3.12.7"
  }
 },
 "nbformat": 4,
 "nbformat_minor": 2
}
