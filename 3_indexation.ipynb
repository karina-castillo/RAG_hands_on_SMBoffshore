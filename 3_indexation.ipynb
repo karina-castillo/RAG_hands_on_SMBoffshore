{
 "cells": [
  {
   "cell_type": "code",
   "execution_count": 14,
   "metadata": {},
   "outputs": [],
   "source": [
    "import yaml\n",
    "import os\n",
    "from azure.search.documents import SearchClient\n",
    "from azure.search.documents.indexes import SearchIndexClient\n",
    "from azure.search.documents.indexes.models import (\n",
    "    SearchIndex,\n",
    "    SearchField,\n",
    "    SimpleField,\n",
    "    SearchFieldDataType,\n",
    "    SearchableField,\n",
    "    SemanticConfiguration,\n",
    "    SemanticPrioritizedFields,\n",
    "    SemanticField,\n",
    "    SemanticSearch,\n",
    "    VectorSearch,\n",
    "    HnswAlgorithmConfiguration,\n",
    "    VectorSearchProfile\n",
    ")\n",
    "from openai import AzureOpenAI\n",
    "from azure.core.credentials import AzureKeyCredential\n"
   ]
  },
  {
   "cell_type": "code",
   "execution_count": 15,
   "metadata": {},
   "outputs": [],
   "source": [
    "# Import config file\n",
    "with open(\"config.yml\", \"r\") as config_file:\n",
    "    config = yaml.safe_load(config_file)"
   ]
  },
  {
   "cell_type": "code",
   "execution_count": 16,
   "metadata": {},
   "outputs": [],
   "source": [
    "# Azure OpenAI configuration\n",
    "AZURE_OPENAI_ENDPOINT = config['azure_openai_endpoint']\n",
    "AZURE_OPENAI_API_KEY = config['azure_openai_key']\n",
    "AZURE_OPENAI_API_VERSION = config['azure_openai_api_version']\n",
    "\n",
    "# Azure AI search\n",
    "AISEARCH_ENDPOINT = config['aisearch_endpoint']\n",
    "AISEARCH_CREDENTIAL = AzureKeyCredential(config['aisearch_credential'])\n",
    "AISEARCH_INDEX_NAME = config['aisearch_index_name']\n",
    "\n",
    "# Azure embedding\n",
    "AZURE_OPENAI_EMBEDDING_DEPLOYMENT = config['azure_openai_embedding_deployment']\n",
    "AZURE_OPENAI_EMBEDDING_MODEL_NAME = config['embedding_model_name']"
   ]
  },
  {
   "cell_type": "code",
   "execution_count": 17,
   "metadata": {},
   "outputs": [],
   "source": [
    "client = AzureOpenAI(\n",
    "    api_key= AZURE_OPENAI_API_KEY,  \n",
    "    api_version= AZURE_OPENAI_API_VERSION,\n",
    "    azure_endpoint= AZURE_OPENAI_ENDPOINT,\n",
    ")"
   ]
  },
  {
   "cell_type": "code",
   "execution_count": 5,
   "metadata": {},
   "outputs": [],
   "source": [
    "#client.embeddings.create(input=[\"test, embedding\"],model=AZURE_OPENAI_EMBEDDING_MODEL_NAME)"
   ]
  },
  {
   "cell_type": "code",
   "execution_count": 6,
   "metadata": {},
   "outputs": [],
   "source": [
    "#client.chat.completions.create(messages=[{\"role\": \"user\", \"content\": \"hello, test gpt\"}],model=config[\"azure_openai_model_deployment\"])"
   ]
  },
  {
   "cell_type": "code",
   "execution_count": 18,
   "metadata": {},
   "outputs": [],
   "source": [
    "# Lazy Connect to AI Search\n",
    "index_client = SearchIndexClient(endpoint=AISEARCH_ENDPOINT, credential=AISEARCH_CREDENTIAL)\n",
    "search_client = SearchClient(endpoint=AISEARCH_ENDPOINT, index_name=AISEARCH_INDEX_NAME, credential=AISEARCH_CREDENTIAL)"
   ]
  },
  {
   "cell_type": "code",
   "execution_count": 19,
   "metadata": {},
   "outputs": [],
   "source": [
    "# Función para obtener embeddings\n",
    "def get_embedding(text, model=AZURE_OPENAI_EMBEDDING_MODEL_NAME):\n",
    "    text = text.replace(\"\\n\", \" \")\n",
    "    response = client.embeddings.create(input=[text], model=model)\n",
    "    return response.data[0].embedding"
   ]
  },
  {
   "cell_type": "code",
   "execution_count": 20,
   "metadata": {},
   "outputs": [
    {
     "name": "stdout",
     "output_type": "stream",
     "text": [
      "sbm_index created\n"
     ]
    }
   ],
   "source": [
    "# Configurar índice en Azure Search\n",
    "fields = [\n",
    "    SimpleField(name=\"id\", type=SearchFieldDataType.String, key=True, sortable=True, filterable=True, facetable=True),\n",
    "    SearchableField(name=\"content\", type=SearchFieldDataType.String),\n",
    "    SearchField(name=\"content_vector\", type=SearchFieldDataType.Collection(SearchFieldDataType.Single),\n",
    "                searchable=True, vector_search_dimensions=1536, vector_search_profile_name=\"myHnswProfile\")\n",
    "]\n",
    "\n",
    "# Configure the vector search configuration  \n",
    "vector_search = VectorSearch(\n",
    "    algorithms=[\n",
    "        HnswAlgorithmConfiguration(\n",
    "            name=\"myHnsw\"\n",
    "        )\n",
    "    ],\n",
    "    profiles=[\n",
    "        VectorSearchProfile(\n",
    "            name=\"myHnswProfile\",\n",
    "            algorithm_configuration_name=\"myHnsw\",\n",
    "        )\n",
    "    ]\n",
    ")\n",
    "\n",
    "semantic_config = SemanticConfiguration(\n",
    "    name=\"my-semantic-config\",\n",
    "    prioritized_fields=SemanticPrioritizedFields(\n",
    "        content_fields=[SemanticField(field_name=\"content\")]\n",
    "    )\n",
    ")\n",
    "\n",
    "\n",
    "# Create the semantic settings with the configuration\n",
    "semantic_search = SemanticSearch(configurations=[semantic_config])\n",
    "\n",
    "# Create the search index with the semantic settings\n",
    "index = SearchIndex(name=AISEARCH_INDEX_NAME, fields=fields,\n",
    "                    vector_search=vector_search, semantic_search=semantic_search)\n",
    "result = index_client.create_or_update_index(index)\n",
    "print(f'{result.name} created')"
   ]
  },
  {
   "cell_type": "code",
   "execution_count": 21,
   "metadata": {},
   "outputs": [],
   "source": [
    "# Cargar chunks\n",
    "chunks = []\n",
    "directory=\"chunks/\"\n",
    "for filename in os.listdir(directory):\n",
    "    filepath = os.path.join(directory, filename)\n",
    "    if os.path.isfile(filepath):\n",
    "        with open(filepath, \"r\", encoding=\"utf-8\") as file:\n",
    "            chunks.append({\"id\": filename.replace(\".txt\",\"\"), \"text\": file.read()})\n",
    "   "
   ]
  },
  {
   "cell_type": "code",
   "execution_count": 22,
   "metadata": {},
   "outputs": [
    {
     "data": {
      "text/plain": [
       "[{'id': 'page_1',\n",
       "  'text': '--- Page1 ---\\nPROPRIETARY DOCUMENT - OFFICIAL COPY - ES44331 - PECEELPF447001A1 - PDF Generated on 29-Apr-2022\\n11:51AM\\nCLIENT: SBM OFFSHORE NV\\nPROJECT NAME: GROUP ENGINEERING STANDARD\\nPROJECT NO: ES44331\\nDocument No. : PECEELPF447001\\nDocument Title: CABLE ROUTING DESIGN\\nDocument Type : STANDARD\\nDocument Status : A 1\\nDocument Status : A – Approved\\nDocument Revision : 1\\nDate of Issue : 29-Apr-2022\\nDocument Description :\\nDiscipline Group : ENGINEERING\\nDiscipline: ELECTRICAL\\nSystem: CABLES AND CABLE TRAYS\\nArea : FPSO\\nDocument Purpose:\\nThis document captures the internal requirements to deliver the Cable Routing Design and its\\ndeliverables.\\nDocument Use:\\nConfidentiality Rating : 2 - Restricted\\nCopyright © 2022 SBM Offshore N.V. and/or one or more of its subsidiaries and/or affiliates, as the case may be. This document is the property of SBM Offshore N.V. and/or one or\\nmore of its subsidiaries or affiliates. This document or any part thereof is confidential and may not be distributed, copied, multiplied, or used in any other way without the express written\\npermission of the copyright holder(s). All rights are reserved.'},\n",
       " {'id': 'page_10',\n",
       "  'text': '--- Page10 ---\\nPROPRIETARY DOCUMENT - OFFICIAL COPY - ES44331 - PECEELPF447001A1 - PDF Generated on 29-Apr-2022\\n11:51AM\\nELECTRICAL\\nCABLE ROUTING DESIGN\\nSTANDARD\\nES44331 PECEELPF447001 A 1 PAGE 10 of 14\\ncable trays, for this task the template attached to this WI shall be used (See APPENDIX\\nA)\\n4.4.2.4 3D Model Design Length\\nThe cable reports generated from this tool includes the 3D cable length with all inputs\\ncalculated as per set-up in the Cabling Application Default. This length is used as an\\ninput to the cable schedule.\\n4.4.2.5 Weight/CoG report\\nThe cable weight and CoG report can be generated and issued as an input to the Project\\nWeight Control Report (see GES document ref. [3]).\\nCopyright © 2022 SBM Offshore N.V..'},\n",
       " {'id': 'page_11',\n",
       "  'text': '--- Page11 ---\\nPROPRIETARY DOCUMENT - OFFICIAL COPY - ES44331 - PECEELPF447001A1 - PDF Generated on 29-Apr-2022\\n11:51AM\\nELECTRICAL\\nCABLE ROUTING DESIGN\\nSTANDARD\\nES44331 PECEELPF447001 A 1 PAGE 11 of 14\\n5. INTERFACE\\n5.1 ENGINEERING DISCIPLINE INTERFACE\\nThe Company Project IDR matrix is available on the GEMS Platform - Document ref. [1].\\n5.2 COMPANY INTERFACE\\nNot Applicable.\\n5.3 THIRD-PARTY INTERFACE\\nNot Applicable.\\nCopyright © 2022 SBM Offshore N.V..'},\n",
       " {'id': 'page_12',\n",
       "  'text': '--- Page12 ---\\nPROPRIETARY DOCUMENT - OFFICIAL COPY - ES44331 - PECEELPF447001A1 - PDF Generated on 29-Apr-2022\\n11:51AM\\nELECTRICAL\\nCABLE ROUTING DESIGN\\nSTANDARD\\nES44331 PECEELPF447001 A 1 PAGE 12 of 14\\n6. TOOLS\\nThe following tools are utilized to apply the above instructions:\\n\\uf0c2 Aveva Cable Design / PDMS software\\nCopyright © 2022 SBM Offshore N.V..'},\n",
       " {'id': 'page_13',\n",
       "  'text': '--- Page13 ---\\nPROPRIETARY DOCUMENT - OFFICIAL COPY - ES44331 - PECEELPF447001A1 - PDF Generated on 29-Apr-2022\\n11:51AM\\nELECTRICAL\\nCABLE ROUTING DESIGN\\nSTANDARD\\nES44331 PECEELPF447001 A 1 PAGE 13 of 14\\nAPPENDIX A. CABLE ROUTING LAYOUT – TYPICAL DIAGRAM\\nRefer to attachment PECEELPF447001-Appx A in pdf format.\\nCopyright © 2022 SBM Offshore N.V..'},\n",
       " {'id': 'page_14',\n",
       "  'text': '--- Page14 ---\\nPROPRIETARY DOCUMENT - OFFICIAL COPY - ES44331 - PECEELPF447001A1 - PDF Generated on 29-Apr-2022\\n11:51AM\\nELECTRICAL\\nCABLE ROUTING DESIGN\\nSTANDARD\\nES44331 PECEELPF447001 A 1 PAGE 14 of 14\\nAPPENDIX B. CABLE TRAYS FILING REPORT TEMPLATE\\nRefer to attachment PECEELPF447001-Appx B in native format.\\nCopyright © 2022 SBM Offshore N.V..'},\n",
       " {'id': 'page_2',\n",
       "  'text': '--- Page2 ---\\nPROPRIETARY DOCUMENT - OFFICIAL COPY - ES44331 - PECEELPF447001A1 - PDF Generated on 29-Apr-2022\\n11:51AM\\nELECTRICAL\\nCABLE ROUTING DESIGN\\nSTANDARD\\nES44331 PECEELPF447001 A 1 PAGE 2 of 14\\nREVISION STATUS / SUMMARY OF CHANGES\\nStatus / Date No. of\\nWritten by Checked by Approved by Approved by\\nRevision (DD-Mmm-YYYY) Pages\\nA1 8-Apr-2022 14 D. Chatterjee V. Matei V. Matei P. Petrossi\\nLast Issue\\nREASON FOR REVISION\\nRevised Section\\nFirst issue\\nThis document supersedes the following documents:\\nAll\\n1. GEMS ref. CP-ECO-ENG-EEX-DED.GRP.INS.0036.ENG Electrical Cable Routing Design Instruction\\n2. GEG ref. ES44331 – PEDWELPF447001 Electrical - Cable Routing Layout - Typical Diagram\\n3. GEG ref. ES44331 – PERPELPF447001 Electrical - Cable Trays Filling – Template Report\\nStatus Information\\nP Preliminary for Information\\nI Inter Discipline Review\\nC For Comments and Approval\\nV Valid for Procurement and Construction\\nA Approved\\nD Deleted\\nCopyright © 2022 SBM Offshore N.V. and/or one or more of its subsidiaries and/or affiliates, as the case may be. This document is the property of SBM Offshore N.V. and/or one or\\nmore of its subsidiaries or affiliates. This document or any part thereof is confidential and may not be distributed, copied, multiplied, or used in any other way without the express\\nwritten permission of the copyright holder(s). All rights are reserved.'},\n",
       " {'id': 'page_3',\n",
       "  'text': '--- Page3 ---\\nPROPRIETARY DOCUMENT - OFFICIAL COPY - ES44331 - PECEELPF447001A1 - PDF Generated on 29-Apr-2022\\n11:51AM\\nELECTRICAL\\nCABLE ROUTING DESIGN\\nSTANDARD\\nES44331 PECEELPF447001 A 1 PAGE 3 of 14\\nTABLE OF CONTENTS\\n1. PURPOSE............................................................................................................................4\\n2. REFERENCES.....................................................................................................................4\\n2.1 GEMS.....................................................................................................................4\\n2.2 GROUP ENGINEERING STANDARDS AND GUIDELINES..................................4\\n2.3 GROUP TECHNICAL STANDARDS AND GUIDELINES......................................4\\n2.4 INDUSTRIAL CODES, STANDARDS AND REGULATIONS.................................4\\n3. DEFINITIONS AND ABBREVIATIONS...............................................................................5\\n3.1 GENERAL DEFINITIONS.......................................................................................5\\n3.2 TECHNICAL DEFINITIONS...................................................................................5\\n3.3 ABBREVIATIONS...................................................................................................5\\n4. SCOPE.................................................................................................................................6\\n4.1 SCOPE APPLICABILITY........................................................................................6\\n4.2 SCOPE REQUIREMENTS.....................................................................................6\\n4.3 DOCUMENT(S) STRUCTURE AND CONTENT....................................................6\\n4.4 DOCUMENT(S) MANAGEMENT...........................................................................7\\n5. INTERFACE.......................................................................................................................11\\n5.1 ENGINEERING DISCIPLINE INTERFACE..........................................................11\\n5.2 COMPANY INTERFACE......................................................................................11\\n5.3 THIRD-PARTY INTERFACE................................................................................11\\n6. TOOLS...............................................................................................................................12\\nAPPENDIX A. CABLE ROUTING LAYOUT – TYPICAL DIAGRAM..........................................13\\nAPPENDIX B. CABLE TRAYS FILING REPORT TEMPLATE...................................................14\\nCopyright © 2022 SBM Offshore N.V..'},\n",
       " {'id': 'page_4',\n",
       "  'text': '--- Page4 ---\\nPROPRIETARY DOCUMENT - OFFICIAL COPY - ES44331 - PECEELPF447001A1 - PDF Generated on 29-Apr-2022\\n11:51AM\\nELECTRICAL\\nCABLE ROUTING DESIGN\\nSTANDARD\\nES44331 PECEELPF447001 A 1 PAGE 4 of 14\\n1. PURPOSE\\nThis document captures the internal requirements to deliver the Cable Routing Design\\nand its deliverables.\\nIt is written in association with the document(s) referenced in Section 2.\\n2. REFERENCES\\n2.1 GEMS\\n[1] CP-ECO-ENG-ESS-DSW.GRP.INS.0001.ENG Electrical - Deliverables and Activities\\n[2] CP-ECO-ENG-ESS-DSW.GRP.FRM.0001.ENG Standard IDR Matrix\\n2.2 GROUP ENGINEERING STANDARDS AND GUIDELINES\\n[3] PECEELPF447002 Cables Schedule Management Standard\\n2.3 GROUP TECHNICAL STANDARDS AND GUIDELINES\\n[4] PECEWCPF999002 Weight Control Technical Guidelines\\n2.4 INDUSTRIAL CODES, STANDARDS AND REGULATIONS\\nNot applicable.\\nCopyright © 2022 SBM Offshore N.V..'},\n",
       " {'id': 'page_5',\n",
       "  'text': '--- Page5 ---\\nPROPRIETARY DOCUMENT - OFFICIAL COPY - ES44331 - PECEELPF447001A1 - PDF Generated on 29-Apr-2022\\n11:51AM\\nELECTRICAL\\nCABLE ROUTING DESIGN\\nSTANDARD\\nES44331 PECEELPF447001 A 1 PAGE 5 of 14\\n3. DEFINITIONS AND ABBREVIATIONS\\n3.1 GENERAL DEFINITIONS\\nNot applicable.\\n3.2 TECHNICAL DEFINITIONS\\nNot applicable.\\n3.3 ABBREVIATIONS\\nCoG Centre of Gravity\\nCopyright © 2022 SBM Offshore N.V..'},\n",
       " {'id': 'page_6',\n",
       "  'text': '--- Page6 ---\\nPROPRIETARY DOCUMENT - OFFICIAL COPY - ES44331 - PECEELPF447001A1 - PDF Generated on 29-Apr-2022\\n11:51AM\\nELECTRICAL\\nCABLE ROUTING DESIGN\\nSTANDARD\\nES44331 PECEELPF447001 A 1 PAGE 6 of 14\\n4. SCOPE\\n4.1 SCOPE APPLICABILITY\\nThe roles and responsibilities of this standard must be applied as per GEMS document\\nref. [1].\\n4.2 SCOPE REQUIREMENTS\\nThe purpose of this document is to describe the internal requirements to design cable\\nrouting using AVEVA cable design software by Designers / Engineers.\\nThese instructions are applicable to Electrical, Instrumentation and Telecommunication\\ncable routing, applicable to the engineering detail design and construction phase of a\\nproject.\\nThe document does not include information relative to the complete operation of AVEVA\\nCable Design software. It is assumed that the person in charge is familiar with the use of\\nAVEVA PDMS 3D design, AVEVA E3D and drafting.\\n4.3 DOCUMENT(S) STRUCTURE AND CONTENT\\nThe AVEVA Cable Design application enables users to create cableways, cables and\\ncableways material. The cable can be routed through the cableways to provide\\ninformation such as lengths and node schedules.\\nThe application is divided into three main areas: cableways, cables and cableway\\nmaterials:\\n1. Cableways\\nCableways are the virtual volume allowing the cable to be routed in the 3D model. The\\ncableways are a network of interconnected cableway branches (each cableway branch\\nequals to a cable tray branch in terms of position, size and function). The Cableway\\nshould be created first as this will help us to route the cables with proper connection,\\neven if we modify the routing, the route attachment point will also get modified.\\nAfterwords we can dress the cableway to create the cable tray.\\n2. Cables\\nCables are selected from the generic cable catalogue available in the tool itself; they\\ncontain all the physical and technical details necessary to perform proper reporting &\\nrouting (weight/m, overall diameter, bending radius, and the electrical parameters). The\\ncable catalogue is to be customized to the project specificities, unless a Group’s validated\\ncatalogue is available.\\n3. Cableway Material\\nCableway Material is the dressing that can be applied to the cableway to have it looking\\nlike a cable tray. The dressing of cableway shall not be used and cableway shall be\\ncreated from trays (conversion tool part of AVEVA PDMS/Outfitting).\\nCopyright © 2022 SBM Offshore N.V..'},\n",
       " {'id': 'page_7',\n",
       "  'text': '--- Page7 ---\\nPROPRIETARY DOCUMENT - OFFICIAL COPY - ES44331 - PECEELPF447001A1 - PDF Generated on 29-Apr-2022\\n11:51AM\\nELECTRICAL\\nCABLE ROUTING DESIGN\\nSTANDARD\\nES44331 PECEELPF447001 A 1 PAGE 7 of 14\\n4.4 DOCUMENT(S) MANAGEMENT\\n4.4.1 Routing Procedure\\n4.4.1.1 Required Inputs\\nThe following inputs are required to perform the Cable Routing Design:\\n3D Model (See paragraph 4.4.1.3).\\nDrawings & Documents:\\n\\uf0b7 Equipment Lists\\n\\uf0b7 Cable Schedules\\n\\uf0b7 Key One Line Diagram.\\n4.4.1.2 Design Settings\\nThe design setting and attributes in Cabling Application Default must be filled up prior to\\nstart the cableway and cable design; a standard cable catalogue used by all execution\\ncentres shall be selected. This allows the user to select the cable from the catalogues\\nand populates the specification, description, sizes and design parameters.\\nExcess Length field : to set the cable allowances by giving an extra length to both cable\\nends. Below additional length shall be considered for coiling and termination works.\\n- for minor equipments extra length 2 meters (eg: Light fixtures, JB’s, Sockets & DB’s).\\n- for mechanical workshops/packages/skids/Davit extra length 5 meters.\\nProximity Distance field: to specify the distance from the head, which allow the\\nsoftware searching the cableway entry points within the specified radius. RANEQUIP\\nattribute is the one linked to proximity distance; its nominal value should be of 1500mm\\nhowever this value can be increased in case of routing failure.\\nInterference Class: is the attribute that define the types of cables that are allowed to be\\nrouted in cableway. The set-up of the segregation rules is to be made on both the\\ncableway and cable.\\nVarious segregation levels can be created, including system segregation (LV/Inst/HV)\\nand also \"routing\" or “system internal” segregation such as IS/non-IS, A/B routes... etc.\\nWhere cables have been routed with AVEVA Cable Design, the fill percentage check\\nshall be always ON while creating the Cway to monitor the exact filling percentage level\\nin each cable ways.\\nSBM maximum filling percentage of cable trays shall be of:\\n\\uf0b7 30% during FEED phase (Only for preliminary cable tray sizing as cable routing is\\nnot part of FEED).\\n\\uf0b7 50% during EPC phase (EPC phase should be max. 50% as AVEVA doesn’t take\\nin to account spaces between cables laid in flat or trefoil formation)\\nThe remaining 20% space shall be kept for future use.\\nCopyright © 2022 SBM Offshore N.V..'},\n",
       " {'id': 'page_8',\n",
       "  'text': '--- Page8 ---\\nPROPRIETARY DOCUMENT - OFFICIAL COPY - ES44331 - PECEELPF447001A1 - PDF Generated on 29-Apr-2022\\n11:51AM\\nELECTRICAL\\nCABLE ROUTING DESIGN\\nSTANDARD\\nES44331 PECEELPF447001 A 1 PAGE 8 of 14\\n4.4.1.3 3D Model Status Requirements\\nFrom 30% design stage, all equipment shall be modelled with ELCONN (Electrical\\nConnector) to allow cable connection. Cables shall always be connected to on ELCONN\\nwith the corect E/ I / T tag.\\nThe cable schedules (most up to date revision, starting from V1) are to be imported in the\\n3D model. After DD1 phase (60% model review) only HV cables to be routed and\\nremaining LV/ INS/ TEL cables to be routed after DD2 phase (90% model review).\\nFor Cable Import Template to be used to create cables in batch mode with appropriate\\ndata required to route the cable, refer to GES doc.ref. [3].\\n4.4.1.4 Cableways Creation\\nCableways are either created manually or by converting existing cable trays with an\\nAVEVA tool included in PDMS/E3D/Outfitting software. After having the cableways\\ncreated, a connected network shall be developed to ensure all possible routing will be\\navailable for the tool to work with, connecting all cableway branches either Head to Tail,\\nHead to Head, Tail to Tail or Head/Tail to RATTA (Route Attachment Point).\\nNOD (Nodes) shall be created for cable to exit at a certain point of a cableway (different\\nthan head or tail).\\n4.4.1.5 Cable Creation\\nOnce cableway network is created and connections are checked cables can be created.\\nCables are either created manually or in batch mode. For batch mode creation the Cable\\nImport Template shall be used (GES doc.ref. [3]).\\n4.4.1.6 Cable Routing\\nOnce the cables have been created in the 3D model, cable design can be used to route\\nthe cables using the available cableways. Routing can be done in several methods:\\n\\uf0b7 Manual route: the user chooses the routes taking into account the segregation (Full\\nmanual routing or semi-manual routing available)\\n\\uf0b7 Auto route: the cable is routed by the software following two scenarios (minimise\\nfree route or minimise total length).\\nThe automatic cable routing takes into account the cable classification and fits the cable\\nthrough the compatible cableways and penetration.\\nThe Cable Data utility allows the user to perform various operations including routing of\\nindividual or multiple cables (bulk routing) in zone. For bulk routing the user shall be\\nresponsible for ensuring the cables that has been routed are in line with the routing\\nguidelines.\\nCopyright © 2022 SBM Offshore N.V..'},\n",
       " {'id': 'page_9',\n",
       "  'text': '--- Page9 ---\\nPROPRIETARY DOCUMENT - OFFICIAL COPY - ES44331 - PECEELPF447001A1 - PDF Generated on 29-Apr-2022\\n11:51AM\\nELECTRICAL\\nCABLE ROUTING DESIGN\\nSTANDARD\\nES44331 PECEELPF447001 A 1 PAGE 9 of 14\\n4.4.2 Outputs\\n4.4.2.1 Cable Trays Filling Report\\nIn order to check and validate cable routing a filling report must be produced. For this\\ntask the template in APPENDIX B shall be used. The filling level (FLEVEL) are given at\\nseveral position of a cableway branch see sketch below taken from AVEVA\\nPDMS/Outfitting software.\\n4.4.2.2 Cable Routing Node\\nThe cable route node is a “gate” the cable is going through; it is shown in the cable\\nrouting layout drawing. The routing nodes are part of cableway data and can be extracted\\nto be used as an input to the cable schedules.\\n4.4.2.3 Cable Routing Layout\\nThe cable routing layout diagram is a layout showing the trays and the nodes; it allows\\nthe user, in association with the cable schedule, to physically install the cables in the\\nCopyright © 2022 SBM Offshore N.V..'}]"
      ]
     },
     "execution_count": 22,
     "metadata": {},
     "output_type": "execute_result"
    }
   ],
   "source": [
    "chunks"
   ]
  },
  {
   "cell_type": "code",
   "execution_count": 23,
   "metadata": {},
   "outputs": [
    {
     "name": "stdout",
     "output_type": "stream",
     "text": [
      "Uploaded 14 documents\n"
     ]
    }
   ],
   "source": [
    "# Indexar documentos\n",
    "documents = []\n",
    "for chunk in chunks:\n",
    "    embedding = get_embedding(chunk['text'])\n",
    "    document = {\n",
    "        \"id\": chunk['id'],\n",
    "        \"content\": chunk['text'],\n",
    "        \"content_vector\": embedding\n",
    "    }\n",
    "    documents.append(document)\n",
    "\n",
    "# Subir los documentos en lotes\n",
    "search_client.upload_documents(documents=documents)\n",
    "print(f\"Uploaded {len(documents)} documents\") "
   ]
  }
 ],
 "metadata": {
  "kernelspec": {
   "display_name": "Python 3",
   "language": "python",
   "name": "python3"
  },
  "language_info": {
   "codemirror_mode": {
    "name": "ipython",
    "version": 3
   },
   "file_extension": ".py",
   "mimetype": "text/x-python",
   "name": "python",
   "nbconvert_exporter": "python",
   "pygments_lexer": "ipython3",
   "version": "3.12.7"
  }
 },
 "nbformat": 4,
 "nbformat_minor": 2
}
