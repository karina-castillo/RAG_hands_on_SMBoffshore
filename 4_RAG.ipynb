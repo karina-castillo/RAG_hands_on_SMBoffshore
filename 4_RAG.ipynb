{
 "cells": [
  {
   "cell_type": "code",
   "execution_count": 1,
   "metadata": {},
   "outputs": [],
   "source": [
    "import yaml\n",
    "import pandas as pd\n",
    "\n",
    "from azure.core.credentials import AzureKeyCredential\n",
    "from langchain.vectorstores.azuresearch import AzureSearch\n",
    "from langchain_openai import AzureOpenAIEmbeddings\n",
    "from langchain_openai import AzureOpenAIEmbeddings\n",
    "from langchain_openai import AzureChatOpenAI\n",
    "from langchain_core.prompts import ChatPromptTemplate"
   ]
  },
  {
   "cell_type": "code",
   "execution_count": 2,
   "metadata": {},
   "outputs": [],
   "source": [
    "# Import config file\n",
    "with open(\"config.yml\", \"r\") as config_file:\n",
    "    config = yaml.safe_load(config_file)"
   ]
  },
  {
   "cell_type": "code",
   "execution_count": 3,
   "metadata": {},
   "outputs": [],
   "source": [
    "# Azure OpenAI configuration\n",
    "AZURE_OPENAI_ENDPOINT = config['azure_openai_endpoint']\n",
    "AZURE_OPENAI_API_KEY = config['azure_openai_key']\n",
    "AZURE_OPENAI_API_VERSION = config['azure_openai_api_version']\n",
    "AZURE_OPENAI_NAME_DEPLOYMENT = config['azure_openai_model_deployment']\n",
    "\n",
    "# Azure AI search\n",
    "AISEARCH_ENDPOINT = config['aisearch_endpoint']\n",
    "AISEARCH_KEY = config['aisearch_credential']\n",
    "AISEARCH_CREDENTIAL = AzureKeyCredential(config['aisearch_credential'])\n",
    "AISEARCH_INDEX_NAME = config['aisearch_index_name']\n",
    "\n",
    "# Azure embedding\n",
    "AZURE_OPENAI_EMBEDDING_DEPLOYMENT = config['azure_openai_embedding_deployment']\n",
    "AZURE_OPENAI_EMBEDDING_MODEL_NAME = config['embedding_model_name']"
   ]
  },
  {
   "cell_type": "code",
   "execution_count": 4,
   "metadata": {},
   "outputs": [],
   "source": [
    "# Will be used by langchain to generate response\n",
    "chatmodel = AzureChatOpenAI(\n",
    "            azure_endpoint= AZURE_OPENAI_ENDPOINT,\n",
    "            openai_api_key=AZURE_OPENAI_API_KEY,\n",
    "            openai_api_version=AZURE_OPENAI_API_VERSION,\n",
    "            azure_deployment=AZURE_OPENAI_NAME_DEPLOYMENT,\n",
    "            temperature=0,\n",
    "            model_version=\"2024-07-18\")\n",
    "\n",
    "# Will be used by langchain to embed the question and do the search\n",
    "embeddings = AzureOpenAIEmbeddings(\n",
    "    azure_deployment=AZURE_OPENAI_EMBEDDING_DEPLOYMENT,\n",
    "    openai_api_version=AZURE_OPENAI_API_VERSION,\n",
    "    azure_endpoint=AZURE_OPENAI_ENDPOINT,\n",
    "    api_key=AZURE_OPENAI_API_KEY\n",
    ")\n",
    "\n",
    "#will be used for handling the vector store Azure AI Search \n",
    "vector_store = AzureSearch(\n",
    "    azure_search_endpoint=AISEARCH_ENDPOINT,\n",
    "    azure_search_key=AISEARCH_KEY,\n",
    "    index_name=AISEARCH_INDEX_NAME,\n",
    "    embedding_function=embeddings.embed_query,\n",
    "    semantic_configuration_name=\"my-semantic-config\"\n",
    ")"
   ]
  },
  {
   "cell_type": "code",
   "execution_count": 5,
   "metadata": {},
   "outputs": [],
   "source": [
    "from langchain.chains import create_retrieval_chain\n",
    "from langchain.chains.combine_documents import create_stuff_documents_chain"
   ]
  },
  {
   "cell_type": "code",
   "execution_count": 6,
   "metadata": {},
   "outputs": [],
   "source": [
    "retriever = vector_store.as_retriever(\n",
    "     k = 3, #top k matches\n",
    "     #search_type = \"hybrid\" #\"similarity\" (default) vector similarity, \"hybrid\" Vectorial + Terms, \"Semantic Hybrid\" vectorial + semantic. \n",
    "    )\n",
    "\n",
    "system_prompt = (\"\"\"\n",
    "    \n",
    "    - Answer the user's question based on the given context.\n",
    "    - If the context does not contain the information, do not make up an answer. Simply respond with \"I don't know\"  \n",
    "  \n",
    "    <context>\n",
    "    {context}\n",
    "    </context>\n",
    "    \"\"\"\n",
    ")\n",
    "\n",
    "\n",
    "prompt = ChatPromptTemplate.from_messages(\n",
    "    [\n",
    "        (\"system\", system_prompt),\n",
    "        (\"human\", \"{input}\"),\n",
    "    ]\n",
    ")\n",
    "\n",
    "question_answer_chain = create_stuff_documents_chain(chatmodel, prompt)\n",
    "rag_chain = create_retrieval_chain(retriever, question_answer_chain)"
   ]
  },
  {
   "cell_type": "code",
   "execution_count": null,
   "metadata": {},
   "outputs": [],
   "source": [
    "### Here are some ideas for questions you can ask about the document titled \"Electrical Cable Routing Design Standard\"###\n",
    "\n",
    "#which extra length should be added to the cables for procurement?\n",
    "# When are TEL cable routed? \n",
    "# -------------------------\n",
    "#What is the primary purpose of the \"Electrical Cable Routing Design Standard\" document?\n",
    "#What software tools are specified in the document for cable routing design?\n",
    "#What are the key inputs required to perform the cable routing design as per the document?\n",
    "#Can you explain the difference between manual and auto cable routing methods outlined in the standard?\n",
    "#What are the responsibilities of engineers when using AVEVA cable design software?"
   ]
  },
  {
   "cell_type": "code",
   "execution_count": 8,
   "metadata": {},
   "outputs": [],
   "source": [
    "# Query one question \n",
    "question = \"which extra length should be added to the cables\"\n",
    "input = {'input' : question}\n",
    "result = rag_chain.invoke(input)"
   ]
  },
  {
   "cell_type": "code",
   "execution_count": 11,
   "metadata": {},
   "outputs": [
    {
     "data": {
      "text/plain": [
       "{'input': 'which extra length should be added to the cables',\n",
       " 'context': [Document(metadata={'id': 'page_7', '@search.score': 0.03306011110544205, '@search.reranker_score': None, '@search.highlights': None, '@search.captions': None}, page_content='--- Page7 ---\\nPROPRIETARY DOCUMENT - OFFICIAL COPY - ES44331 - PECEELPF447001A1 - PDF Generated on 29-Apr-2022\\n11:51AM\\nELECTRICAL\\nCABLE ROUTING DESIGN\\nSTANDARD\\nES44331 PECEELPF447001 A 1 PAGE 7 of 14\\n4.4 DOCUMENT(S) MANAGEMENT\\n4.4.1 Routing Procedure\\n4.4.1.1 Required Inputs\\nThe following inputs are required to perform the Cable Routing Design:\\n3D Model (See paragraph 4.4.1.3).\\nDrawings & Documents:\\n\\uf0b7 Equipment Lists\\n\\uf0b7 Cable Schedules\\n\\uf0b7 Key One Line Diagram.\\n4.4.1.2 Design Settings\\nThe design setting and attributes in Cabling Application Default must be filled up prior to\\nstart the cableway and cable design; a standard cable catalogue used by all execution\\ncentres shall be selected. This allows the user to select the cable from the catalogues\\nand populates the specification, description, sizes and design parameters.\\nExcess Length field : to set the cable allowances by giving an extra length to both cable\\nends. Below additional length shall be considered for coiling and termination works.\\n- for minor equipments extra length 2 meters (eg: Light fixtures, JB’s, Sockets & DB’s).\\n- for mechanical workshops/packages/skids/Davit extra length 5 meters.\\nProximity Distance field: to specify the distance from the head, which allow the\\nsoftware searching the cableway entry points within the specified radius. RANEQUIP\\nattribute is the one linked to proximity distance; its nominal value should be of 1500mm\\nhowever this value can be increased in case of routing failure.\\nInterference Class: is the attribute that define the types of cables that are allowed to be\\nrouted in cableway. The set-up of the segregation rules is to be made on both the\\ncableway and cable.\\nVarious segregation levels can be created, including system segregation (LV/Inst/HV)\\nand also \"routing\" or “system internal” segregation such as IS/non-IS, A/B routes... etc.\\nWhere cables have been routed with AVEVA Cable Design, the fill percentage check\\nshall be always ON while creating the Cway to monitor the exact filling percentage level\\nin each cable ways.\\nSBM maximum filling percentage of cable trays shall be of:\\n\\uf0b7 30% during FEED phase (Only for preliminary cable tray sizing as cable routing is\\nnot part of FEED).\\n\\uf0b7 50% during EPC phase (EPC phase should be max. 50% as AVEVA doesn’t take\\nin to account spaces between cables laid in flat or trefoil formation)\\nThe remaining 20% space shall be kept for future use.\\nCopyright © 2022 SBM Offshore N.V..'),\n",
       "  Document(metadata={'id': 'page_10', '@search.score': 0.03253968432545662, '@search.reranker_score': None, '@search.highlights': None, '@search.captions': None}, page_content='--- Page10 ---\\nPROPRIETARY DOCUMENT - OFFICIAL COPY - ES44331 - PECEELPF447001A1 - PDF Generated on 29-Apr-2022\\n11:51AM\\nELECTRICAL\\nCABLE ROUTING DESIGN\\nSTANDARD\\nES44331 PECEELPF447001 A 1 PAGE 10 of 14\\ncable trays, for this task the template attached to this WI shall be used (See APPENDIX\\nA)\\n4.4.2.4 3D Model Design Length\\nThe cable reports generated from this tool includes the 3D cable length with all inputs\\ncalculated as per set-up in the Cabling Application Default. This length is used as an\\ninput to the cable schedule.\\n4.4.2.5 Weight/CoG report\\nThe cable weight and CoG report can be generated and issued as an input to the Project\\nWeight Control Report (see GES document ref. [3]).\\nCopyright © 2022 SBM Offshore N.V..'),\n",
       "  Document(metadata={'id': 'page_8', '@search.score': 0.032522473484277725, '@search.reranker_score': None, '@search.highlights': None, '@search.captions': None}, page_content='--- Page8 ---\\nPROPRIETARY DOCUMENT - OFFICIAL COPY - ES44331 - PECEELPF447001A1 - PDF Generated on 29-Apr-2022\\n11:51AM\\nELECTRICAL\\nCABLE ROUTING DESIGN\\nSTANDARD\\nES44331 PECEELPF447001 A 1 PAGE 8 of 14\\n4.4.1.3 3D Model Status Requirements\\nFrom 30% design stage, all equipment shall be modelled with ELCONN (Electrical\\nConnector) to allow cable connection. Cables shall always be connected to on ELCONN\\nwith the corect E/ I / T tag.\\nThe cable schedules (most up to date revision, starting from V1) are to be imported in the\\n3D model. After DD1 phase (60% model review) only HV cables to be routed and\\nremaining LV/ INS/ TEL cables to be routed after DD2 phase (90% model review).\\nFor Cable Import Template to be used to create cables in batch mode with appropriate\\ndata required to route the cable, refer to GES doc.ref. [3].\\n4.4.1.4 Cableways Creation\\nCableways are either created manually or by converting existing cable trays with an\\nAVEVA tool included in PDMS/E3D/Outfitting software. After having the cableways\\ncreated, a connected network shall be developed to ensure all possible routing will be\\navailable for the tool to work with, connecting all cableway branches either Head to Tail,\\nHead to Head, Tail to Tail or Head/Tail to RATTA (Route Attachment Point).\\nNOD (Nodes) shall be created for cable to exit at a certain point of a cableway (different\\nthan head or tail).\\n4.4.1.5 Cable Creation\\nOnce cableway network is created and connections are checked cables can be created.\\nCables are either created manually or in batch mode. For batch mode creation the Cable\\nImport Template shall be used (GES doc.ref. [3]).\\n4.4.1.6 Cable Routing\\nOnce the cables have been created in the 3D model, cable design can be used to route\\nthe cables using the available cableways. Routing can be done in several methods:\\n\\uf0b7 Manual route: the user chooses the routes taking into account the segregation (Full\\nmanual routing or semi-manual routing available)\\n\\uf0b7 Auto route: the cable is routed by the software following two scenarios (minimise\\nfree route or minimise total length).\\nThe automatic cable routing takes into account the cable classification and fits the cable\\nthrough the compatible cableways and penetration.\\nThe Cable Data utility allows the user to perform various operations including routing of\\nindividual or multiple cables (bulk routing) in zone. For bulk routing the user shall be\\nresponsible for ensuring the cables that has been routed are in line with the routing\\nguidelines.\\nCopyright © 2022 SBM Offshore N.V..')],\n",
       " 'answer': 'For minor equipment, an extra length of 2 meters should be added (e.g., for light fixtures, junction boxes, sockets, and distribution boards). For mechanical workshops/packages/skids/davits, an extra length of 5 meters should be added.'}"
      ]
     },
     "execution_count": 11,
     "metadata": {},
     "output_type": "execute_result"
    }
   ],
   "source": [
    "result"
   ]
  },
  {
   "cell_type": "code",
   "execution_count": 12,
   "metadata": {},
   "outputs": [
    {
     "data": {
      "text/plain": [
       "'For minor equipment, an extra length of 2 meters should be added (e.g., for light fixtures, junction boxes, sockets, and distribution boards). For mechanical workshops/packages/skids/davits, an extra length of 5 meters should be added.'"
      ]
     },
     "execution_count": 12,
     "metadata": {},
     "output_type": "execute_result"
    }
   ],
   "source": [
    "result['answer']"
   ]
  }
 ],
 "metadata": {
  "kernelspec": {
   "display_name": "Python 3",
   "language": "python",
   "name": "python3"
  },
  "language_info": {
   "codemirror_mode": {
    "name": "ipython",
    "version": 3
   },
   "file_extension": ".py",
   "mimetype": "text/x-python",
   "name": "python",
   "nbconvert_exporter": "python",
   "pygments_lexer": "ipython3",
   "version": "3.12.7"
  }
 },
 "nbformat": 4,
 "nbformat_minor": 2
}
